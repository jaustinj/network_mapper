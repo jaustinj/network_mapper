{
 "cells": [
  {
   "cell_type": "code",
   "execution_count": 1,
   "metadata": {
    "collapsed": true
   },
   "outputs": [],
   "source": [
    "import pandas as pd\n",
    "from collections import Counter\n",
    "import pprint\n",
    "import time\n",
    "import sys\n",
    "import csv"
   ]
  },
  {
   "cell_type": "code",
   "execution_count": 2,
   "metadata": {
    "collapsed": true
   },
   "outputs": [],
   "source": [
    "def printProgress (iteration, total, prefix = '', suffix = '', decimals = 1, barLength = 50):\n",
    "    \"\"\"\n",
    "    Call in a loop to create terminal progress bar\n",
    "    @params:\n",
    "        iteration   - Required  : current iteration (Int)\n",
    "        total       - Required  : total iterations (Int)\n",
    "        prefix      - Optional  : prefix string (Str)\n",
    "        suffix      - Optional  : suffix string (Str)\n",
    "        decimals    - Optional  : positive number of decimals in percent complete (Int)\n",
    "        barLength   - Optional  : character length of bar (Int)\n",
    "    \"\"\"\n",
    "    formatStr = \"{0:.\" + str(decimals) + \"f}\"\n",
    "    percent = formatStr.format(100 * (iteration / float(total)))\n",
    "    filledLength = int(round(barLength * iteration / float(total)))\n",
    "    bar = '█' * filledLength + '-' * (barLength - filledLength)\n",
    "    sys.stdout.write('\\r%s |%s| %s%s %s' % (prefix, bar, percent, '%', suffix)),\n",
    "    if iteration == total:\n",
    "        sys.stdout.write('\\n')\n",
    "    sys.stdout.flush()"
   ]
  },
  {
   "cell_type": "code",
   "execution_count": 3,
   "metadata": {
    "collapsed": true
   },
   "outputs": [],
   "source": [
    "def pairs_count(df, col, group_by):\n",
    "    df = df[[group_by, col]].sort_values(by=[group_by, col]).drop_duplicates().copy()\n",
    "    it = df.itertuples()\n",
    "    pair_finder = Counter()\n",
    "    counter = 1\n",
    "    total = len(df)\n",
    "    \n",
    "    for row in it:\n",
    "        printProgress(counter, total, prefix='Start', suffix='Complete')\n",
    "        _, group_by, col = row\n",
    "        inner_it = df.iloc[counter:,:].itertuples()\n",
    "        \n",
    "        for other_row in inner_it:\n",
    "            _, other_group_by, other_col = other_row\n",
    "            if group_by != other_group_by:\n",
    "                break\n",
    "            elif col == other_col:\n",
    "                continue\n",
    "            else:\n",
    "                topic_pair = str(col) + '%-%' + str(other_col)\n",
    "                pair_finder.update([topic_pair])\n",
    "\n",
    "        counter += 1\n",
    "\n",
    "    return pair_finder\n"
   ]
  },
  {
   "cell_type": "code",
   "execution_count": 4,
   "metadata": {
    "collapsed": false
   },
   "outputs": [
    {
     "data": {
      "text/plain": [
       "333055"
      ]
     },
     "execution_count": 4,
     "metadata": {},
     "output_type": "execute_result"
    }
   ],
   "source": [
    "df = pd.read_csv('/Users/jaustinj/repository/network_mapper/data/draft2_topics.csv')\n",
    "len(df)"
   ]
  },
  {
   "cell_type": "code",
   "execution_count": 5,
   "metadata": {
    "collapsed": false
   },
   "outputs": [
    {
     "name": "stdout",
     "output_type": "stream",
     "text": [
      "Initial number of topics: 41956\n",
      "Topics after filtering: 41956\n",
      "Initial Activity records: 333055\n",
      "Activity records after filtering: 333052\n"
     ]
    }
   ],
   "source": [
    "\n",
    "#only keep most relevant topics\n",
    "topic_weights = pd.DataFrame(df.groupby('topic').author_id.nunique())\n",
    "print('Initial number of topics: %s' % (len(topic_weights)))\n",
    "\n",
    "topic_weights = topic_weights[topic_weights['author_id']>0]\n",
    "print('Topics after filtering: %s' % (len(topic_weights)))\n",
    "\n",
    "relevant_topics = list(topic_weights.index)\n",
    "print('Initial Activity records: %s' % (len(df)))\n",
    "\n",
    "df = df[df['topic'].isin(relevant_topics)]\n",
    "print('Activity records after filtering: %s' % (len(df)))"
   ]
  },
  {
   "cell_type": "code",
   "execution_count": null,
   "metadata": {
    "collapsed": false
   },
   "outputs": [
    {
     "name": "stdout",
     "output_type": "stream",
     "text": [
      "Start |█████████-----------------------------------------| 17.2% Complete"
     ]
    }
   ],
   "source": [
    "start = time.time()\n",
    "pairs = pairs_count(df, col='topic', group_by='video_id')\n",
    "completion = time.time() - start\n",
    "print(completion)"
   ]
  },
  {
   "cell_type": "code",
   "execution_count": null,
   "metadata": {
    "collapsed": false
   },
   "outputs": [],
   "source": [
    "len(pairs)"
   ]
  },
  {
   "cell_type": "code",
   "execution_count": 12,
   "metadata": {
    "collapsed": false
   },
   "outputs": [],
   "source": [
    "with open('/Users/jaustinj/repository/network_mapper/data/topic_output.csv', 'w') as csvfile:\n",
    "    writer = csv.writer(csvfile)\n",
    "    writer.writerow(['Topic1', 'Topic2', 'Count']) #write header\n",
    "    for key, count in pairs.items():\n",
    "        topic1, topic2 = key.split('%-%')\n",
    "        writer.writerow([topic1, topic2, count])"
   ]
  },
  {
   "cell_type": "code",
   "execution_count": 16,
   "metadata": {
    "collapsed": false
   },
   "outputs": [],
   "source": [
    "pairs_df = pd.read_csv('/Users/jaustinj/repository/network_mapper/data/topic_output.csv')\n",
    "len(pairs_df)"
   ]
  },
  {
   "cell_type": "code",
   "execution_count": 17,
   "metadata": {
    "collapsed": false
   },
   "outputs": [
    {
     "data": {
      "text/plain": [
       "41956"
      ]
     },
     "execution_count": 17,
     "metadata": {},
     "output_type": "execute_result"
    }
   ],
   "source": [
    "topic_connections = Counter(pairs_df['Topic1'].tolist()+pairs_df['Topic2'].tolist())\n",
    "tc = pd.DataFrame([{'topic': topic, 'count': count} for topic, count in topic_connections.items()])\n",
    "len(tc)"
   ]
  },
  {
   "cell_type": "code",
   "execution_count": 20,
   "metadata": {
    "collapsed": false
   },
   "outputs": [
    {
     "data": {
      "text/html": [
       "<div>\n",
       "<table border=\"1\" class=\"dataframe\">\n",
       "  <thead>\n",
       "    <tr style=\"text-align: right;\">\n",
       "      <th></th>\n",
       "      <th>count</th>\n",
       "      <th>topic</th>\n",
       "    </tr>\n",
       "  </thead>\n",
       "  <tbody>\n",
       "    <tr>\n",
       "      <th>0</th>\n",
       "      <td>34134</td>\n",
       "      <td>US Marines</td>\n",
       "    </tr>\n",
       "    <tr>\n",
       "      <th>1</th>\n",
       "      <td>29547</td>\n",
       "      <td>United States Navy</td>\n",
       "    </tr>\n",
       "    <tr>\n",
       "      <th>2</th>\n",
       "      <td>26818</td>\n",
       "      <td>Military</td>\n",
       "    </tr>\n",
       "    <tr>\n",
       "      <th>3</th>\n",
       "      <td>26370</td>\n",
       "      <td>United States Navy SEALs</td>\n",
       "    </tr>\n",
       "    <tr>\n",
       "      <th>4</th>\n",
       "      <td>24424</td>\n",
       "      <td>Soldier</td>\n",
       "    </tr>\n",
       "    <tr>\n",
       "      <th>5</th>\n",
       "      <td>23976</td>\n",
       "      <td>United States Air Force</td>\n",
       "    </tr>\n",
       "    <tr>\n",
       "      <th>6</th>\n",
       "      <td>23483</td>\n",
       "      <td>Recruit training</td>\n",
       "    </tr>\n",
       "    <tr>\n",
       "      <th>7</th>\n",
       "      <td>23237</td>\n",
       "      <td>United States Army</td>\n",
       "    </tr>\n",
       "    <tr>\n",
       "      <th>8</th>\n",
       "      <td>22009</td>\n",
       "      <td>United States Marine Corps Recruit Training</td>\n",
       "    </tr>\n",
       "    <tr>\n",
       "      <th>9</th>\n",
       "      <td>21735</td>\n",
       "      <td>Drill instructor</td>\n",
       "    </tr>\n",
       "  </tbody>\n",
       "</table>\n",
       "</div>"
      ],
      "text/plain": [
       "   count                                        topic\n",
       "0  34134                                   US Marines\n",
       "1  29547                           United States Navy\n",
       "2  26818                                     Military\n",
       "3  26370                     United States Navy SEALs\n",
       "4  24424                                      Soldier\n",
       "5  23976                      United States Air Force\n",
       "6  23483                             Recruit training\n",
       "7  23237                           United States Army\n",
       "8  22009  United States Marine Corps Recruit Training\n",
       "9  21735                             Drill instructor"
      ]
     },
     "execution_count": 20,
     "metadata": {},
     "output_type": "execute_result"
    }
   ],
   "source": [
    "tc = tc.sort_values('count', ascending=False).reset_index().iloc[:,1:]\n",
    "tc.head(10)"
   ]
  },
  {
   "cell_type": "code",
   "execution_count": 19,
   "metadata": {
    "collapsed": false
   },
   "outputs": [],
   "source": [
    "tc.to_csv('/Users/jaustinj/repository/network_mapper/data/topic_connections.csv')"
   ]
  },
  {
   "cell_type": "code",
   "execution_count": 28,
   "metadata": {
    "collapsed": false
   },
   "outputs": [],
   "source": [
    "topic_weights = topic_weights.sort_values(by='author_id',ascending=False)\n",
    "topic_weights.to_csv('/Users/jaustinj/repository/network_mapper/data/node_weights.csv')"
   ]
  },
  {
   "cell_type": "code",
   "execution_count": null,
   "metadata": {
    "collapsed": true
   },
   "outputs": [],
   "source": []
  }
 ],
 "metadata": {
  "kernelspec": {
   "display_name": "Python 3",
   "language": "python",
   "name": "python3"
  },
  "language_info": {
   "codemirror_mode": {
    "name": "ipython",
    "version": 3
   },
   "file_extension": ".py",
   "mimetype": "text/x-python",
   "name": "python",
   "nbconvert_exporter": "python",
   "pygments_lexer": "ipython3",
   "version": "3.5.2"
  }
 },
 "nbformat": 4,
 "nbformat_minor": 1
}
