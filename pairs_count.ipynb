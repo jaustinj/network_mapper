{
 "cells": [
  {
   "cell_type": "code",
   "execution_count": 1,
   "metadata": {
    "collapsed": true
   },
   "outputs": [],
   "source": [
    "import pandas as pd\n",
    "from collections import Counter\n",
    "import pprint\n",
    "import time\n",
    "import sys"
   ]
  },
  {
   "cell_type": "code",
   "execution_count": 40,
   "metadata": {
    "collapsed": false
   },
   "outputs": [
    {
     "data": {
      "text/plain": [
       "5997892"
      ]
     },
     "execution_count": 40,
     "metadata": {},
     "output_type": "execute_result"
    }
   ],
   "source": [
    "df = pd.read_csv('/Users/jaustinj/Desktop/wargaming_backup.csv')\n",
    "len(df)"
   ]
  },
  {
   "cell_type": "code",
   "execution_count": 41,
   "metadata": {
    "collapsed": true
   },
   "outputs": [],
   "source": [
    "def printProgress (iteration, total, prefix = '', suffix = '', decimals = 1, barLength = 100):\n",
    "    \"\"\"\n",
    "    Call in a loop to create terminal progress bar\n",
    "    @params:\n",
    "        iteration   - Required  : current iteration (Int)\n",
    "        total       - Required  : total iterations (Int)\n",
    "        prefix      - Optional  : prefix string (Str)\n",
    "        suffix      - Optional  : suffix string (Str)\n",
    "        decimals    - Optional  : positive number of decimals in percent complete (Int)\n",
    "        barLength   - Optional  : character length of bar (Int)\n",
    "    \"\"\"\n",
    "    formatStr = \"{0:.\" + str(decimals) + \"f}\"\n",
    "    percent = formatStr.format(100 * (iteration / float(total)))\n",
    "    filledLength = int(round(barLength * iteration / float(total)))\n",
    "    bar = '█' * filledLength + '-' * (barLength - filledLength)\n",
    "    sys.stdout.write('\\r%s |%s| %s%s %s' % (prefix, bar, percent, '%', suffix)),\n",
    "    if iteration == total:\n",
    "        sys.stdout.write('\\n')\n",
    "    sys.stdout.flush()"
   ]
  },
  {
   "cell_type": "code",
   "execution_count": 42,
   "metadata": {
    "collapsed": true
   },
   "outputs": [],
   "source": [
    "def pairs_count(df, col, group_by):\n",
    "    df = df[[group_by, col]].sort_values(by=[group_by, col]).drop_duplicates().copy()\n",
    "    it = df.itertuples()\n",
    "    pair_finder = Counter()\n",
    "    counter = 1\n",
    "    total = len(df)\n",
    "    \n",
    "    for row in it:\n",
    "        printProgress(counter, total, prefix='Start', suffix='Complete')\n",
    "        _, group_by, col = row\n",
    "        inner_it = df.iloc[counter:,:].itertuples()\n",
    "        \n",
    "        for other_row in inner_it:\n",
    "            _, other_group_by, other_col = other_row\n",
    "            if group_by != other_group_by:\n",
    "                break\n",
    "            elif col == other_col:\n",
    "                continue\n",
    "            else:\n",
    "                topic_pair = str(col) + '-' + str(other_col)\n",
    "                pair_finder.update([topic_pair])\n",
    "\n",
    "        counter += 1\n",
    "\n",
    "    return pair_finder\n"
   ]
  },
  {
   "cell_type": "code",
   "execution_count": null,
   "metadata": {
    "collapsed": false
   },
   "outputs": [
    {
     "name": "stdout",
     "output_type": "stream",
     "text": [
      "Start |████████████████------------------------------------------------------------------------------------| 15.6% Complete"
     ]
    }
   ],
   "source": [
    "start = time.time()\n",
    "pairs = pairs_count(df, col='topic', group_by='author_id')\n",
    "print(time.time() - start)"
   ]
  },
  {
   "cell_type": "code",
   "execution_count": null,
   "metadata": {
    "collapsed": false
   },
   "outputs": [],
   "source": [
    "len(pairs)"
   ]
  },
  {
   "cell_type": "code",
   "execution_count": null,
   "metadata": {
    "collapsed": false
   },
   "outputs": [],
   "source": [
    "pairsdict = {'pairs': pairs}"
   ]
  },
  {
   "cell_type": "code",
   "execution_count": null,
   "metadata": {
    "collapsed": true
   },
   "outputs": [],
   "source": [
    "pairsdf = pd.DataFrame(pairsdict)"
   ]
  },
  {
   "cell_type": "code",
   "execution_count": null,
   "metadata": {
    "collapsed": true
   },
   "outputs": [],
   "source": [
    "pairsdf.to_csv('/Users/jaustinj/Desktop/pairs.csv')"
   ]
  },
  {
   "cell_type": "code",
   "execution_count": null,
   "metadata": {
    "collapsed": false
   },
   "outputs": [],
   "source": [
    "pairsdf.sort_values(by='pairs', ascending=0).head()"
   ]
  },
  {
   "cell_type": "code",
   "execution_count": null,
   "metadata": {
    "collapsed": true
   },
   "outputs": [],
   "source": []
  }
 ],
 "metadata": {
  "kernelspec": {
   "display_name": "Python 3",
   "language": "python",
   "name": "python3"
  },
  "language_info": {
   "codemirror_mode": {
    "name": "ipython",
    "version": 3
   },
   "file_extension": ".py",
   "mimetype": "text/x-python",
   "name": "python",
   "nbconvert_exporter": "python",
   "pygments_lexer": "ipython3",
   "version": "3.5.2"
  }
 },
 "nbformat": 4,
 "nbformat_minor": 1
}
