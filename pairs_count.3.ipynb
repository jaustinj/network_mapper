{
 "cells": [
  {
   "cell_type": "code",
   "execution_count": 1,
   "metadata": {
    "collapsed": true
   },
   "outputs": [],
   "source": [
    "import pandas as pd\n",
    "from collections import Counter\n",
    "import pprint\n",
    "import time\n",
    "import sys\n",
    "import csv\n",
    "import os"
   ]
  },
  {
   "cell_type": "code",
   "execution_count": 2,
   "metadata": {
    "collapsed": true
   },
   "outputs": [],
   "source": [
    "def printProgress (iteration, total, prefix = '', suffix = '', decimals = 1, barLength = 50):\n",
    "    \"\"\"\n",
    "    Call in a loop to create terminal progress bar\n",
    "    @params:\n",
    "        iteration   - Required  : current iteration (Int)\n",
    "        total       - Required  : total iterations (Int)\n",
    "        prefix      - Optional  : prefix string (Str)\n",
    "        suffix      - Optional  : suffix string (Str)\n",
    "        decimals    - Optional  : positive number of decimals in percent complete (Int)\n",
    "        barLength   - Optional  : character length of bar (Int)\n",
    "    \"\"\"\n",
    "    formatStr = \"{0:.\" + str(decimals) + \"f}\"\n",
    "    percent = formatStr.format(100 * (iteration / float(total)))\n",
    "    filledLength = int(round(barLength * iteration / float(total)))\n",
    "    bar = '█' * filledLength + '-' * (barLength - filledLength)\n",
    "    sys.stdout.write('\\r%s |%s| %s%s %s' % (prefix, bar, percent, '%', suffix)),\n",
    "    if iteration == total:\n",
    "        sys.stdout.write('\\n')\n",
    "    sys.stdout.flush()"
   ]
  },
  {
   "cell_type": "code",
   "execution_count": 3,
   "metadata": {
    "collapsed": true
   },
   "outputs": [],
   "source": [
    "def pairs_count(df, col, group_by):\n",
    "    df = df[[group_by, col]].sort_values(by=[group_by, col]).drop_duplicates().copy()\n",
    "    it = df.itertuples()\n",
    "    pair_finder = Counter()\n",
    "    counter = 1\n",
    "    total = len(df)\n",
    "    \n",
    "    for row in it:\n",
    "        printProgress(counter, total, prefix='Start', suffix='Complete')\n",
    "        _, group_by, col = row\n",
    "        inner_it = df.iloc[counter:,:].itertuples()\n",
    "        \n",
    "        for other_row in inner_it:\n",
    "            _, other_group_by, other_col = other_row\n",
    "            if group_by != other_group_by:\n",
    "                break\n",
    "            elif col == other_col:\n",
    "                continue\n",
    "            else:\n",
    "                topic_pair = str(col) + '%-%' + str(other_col)\n",
    "                pair_finder.update([topic_pair])\n",
    "\n",
    "        counter += 1\n",
    "\n",
    "    return pair_finder\n"
   ]
  },
  {
   "cell_type": "code",
   "execution_count": 4,
   "metadata": {
    "collapsed": false
   },
   "outputs": [],
   "source": [
    "cwd = os.getcwd()"
   ]
  },
  {
   "cell_type": "code",
   "execution_count": 5,
   "metadata": {
    "collapsed": false
   },
   "outputs": [
    {
     "data": {
      "text/plain": [
       "61391"
      ]
     },
     "execution_count": 5,
     "metadata": {},
     "output_type": "execute_result"
    }
   ],
   "source": [
    "df = pd.read_csv(cwd + '/data/draft2_topics_3.csv')\n",
    "len(df)"
   ]
  },
  {
   "cell_type": "code",
   "execution_count": 6,
   "metadata": {
    "collapsed": false
   },
   "outputs": [
    {
     "name": "stdout",
     "output_type": "stream",
     "text": [
      "Initial number of topics: 12225\n",
      "Topics after filtering: 12225\n",
      "Initial Activity records: 61391\n",
      "Activity records after filtering: 61391\n"
     ]
    }
   ],
   "source": [
    "\n",
    "#only keep most relevant topics\n",
    "topic_weights = pd.DataFrame(df.groupby('topic').author_id.nunique())\n",
    "print('Initial number of topics: %s' % (len(topic_weights)))\n",
    "\n",
    "topic_weights = topic_weights[topic_weights['author_id']>0]\n",
    "print('Topics after filtering: %s' % (len(topic_weights)))\n",
    "\n",
    "relevant_topics = list(topic_weights.index)\n",
    "print('Initial Activity records: %s' % (len(df)))\n",
    "\n",
    "df = df[df['topic'].isin(relevant_topics)]\n",
    "print('Activity records after filtering: %s' % (len(df)))"
   ]
  },
  {
   "cell_type": "code",
   "execution_count": 7,
   "metadata": {
    "collapsed": false
   },
   "outputs": [
    {
     "name": "stdout",
     "output_type": "stream",
     "text": [
      "Start |██████████████████████████████████████████████████| 100.0% Complete\n",
      "72.17943596839905\n"
     ]
    }
   ],
   "source": [
    "start = time.time()\n",
    "pairs = pairs_count(df, col='topic', group_by='author_id')\n",
    "completion = time.time() - start\n",
    "print(completion)"
   ]
  },
  {
   "cell_type": "code",
   "execution_count": 8,
   "metadata": {
    "collapsed": false
   },
   "outputs": [
    {
     "data": {
      "text/plain": [
       "1326490"
      ]
     },
     "execution_count": 8,
     "metadata": {},
     "output_type": "execute_result"
    }
   ],
   "source": [
    "len(pairs)"
   ]
  },
  {
   "cell_type": "code",
   "execution_count": 9,
   "metadata": {
    "collapsed": false
   },
   "outputs": [],
   "source": [
    "with open(cwd + '/data/topic_output_3.csv', 'w') as csvfile:\n",
    "    writer = csv.writer(csvfile)\n",
    "    writer.writerow(['Topic1', 'Topic2', 'Count']) #write header\n",
    "    for key, count in pairs.items():\n",
    "        topic1, topic2 = key.split('%-%')\n",
    "        writer.writerow([topic1, topic2, count])"
   ]
  },
  {
   "cell_type": "code",
   "execution_count": 10,
   "metadata": {
    "collapsed": false
   },
   "outputs": [
    {
     "data": {
      "text/plain": [
       "1326490"
      ]
     },
     "execution_count": 10,
     "metadata": {},
     "output_type": "execute_result"
    }
   ],
   "source": [
    "pairs_df = pd.read_csv(cwd + '/data/topic_output_3.csv')\n",
    "len(pairs_df)"
   ]
  },
  {
   "cell_type": "code",
   "execution_count": 11,
   "metadata": {
    "collapsed": false
   },
   "outputs": [
    {
     "data": {
      "text/plain": [
       "12208"
      ]
     },
     "execution_count": 11,
     "metadata": {},
     "output_type": "execute_result"
    }
   ],
   "source": [
    "topic_connections = Counter(pairs_df['Topic1'].tolist()+pairs_df['Topic2'].tolist())\n",
    "tc = pd.DataFrame([{'topic': topic, 'count': count} for topic, count in topic_connections.items()])\n",
    "len(tc)"
   ]
  },
  {
   "cell_type": "code",
   "execution_count": 12,
   "metadata": {
    "collapsed": false
   },
   "outputs": [
    {
     "data": {
      "text/html": [
       "<div>\n",
       "<table border=\"1\" class=\"dataframe\">\n",
       "  <thead>\n",
       "    <tr style=\"text-align: right;\">\n",
       "      <th></th>\n",
       "      <th>count</th>\n",
       "      <th>topic</th>\n",
       "    </tr>\n",
       "  </thead>\n",
       "  <tbody>\n",
       "    <tr>\n",
       "      <th>0</th>\n",
       "      <td>7163</td>\n",
       "      <td>US Marines</td>\n",
       "    </tr>\n",
       "    <tr>\n",
       "      <th>1</th>\n",
       "      <td>5559</td>\n",
       "      <td>Recruit training</td>\n",
       "    </tr>\n",
       "    <tr>\n",
       "      <th>2</th>\n",
       "      <td>5489</td>\n",
       "      <td>Military</td>\n",
       "    </tr>\n",
       "    <tr>\n",
       "      <th>3</th>\n",
       "      <td>5246</td>\n",
       "      <td>United States Navy SEALs</td>\n",
       "    </tr>\n",
       "    <tr>\n",
       "      <th>4</th>\n",
       "      <td>5219</td>\n",
       "      <td>United States Navy</td>\n",
       "    </tr>\n",
       "    <tr>\n",
       "      <th>5</th>\n",
       "      <td>5020</td>\n",
       "      <td>United States Air Force</td>\n",
       "    </tr>\n",
       "    <tr>\n",
       "      <th>6</th>\n",
       "      <td>4622</td>\n",
       "      <td>Donald Trump</td>\n",
       "    </tr>\n",
       "    <tr>\n",
       "      <th>7</th>\n",
       "      <td>4363</td>\n",
       "      <td>United States Marine Corps Recruit Training</td>\n",
       "    </tr>\n",
       "    <tr>\n",
       "      <th>8</th>\n",
       "      <td>4291</td>\n",
       "      <td>Drill instructor</td>\n",
       "    </tr>\n",
       "    <tr>\n",
       "      <th>9</th>\n",
       "      <td>4105</td>\n",
       "      <td>Stolen Valor Act of 2013</td>\n",
       "    </tr>\n",
       "  </tbody>\n",
       "</table>\n",
       "</div>"
      ],
      "text/plain": [
       "   count                                        topic\n",
       "0   7163                                   US Marines\n",
       "1   5559                             Recruit training\n",
       "2   5489                                     Military\n",
       "3   5246                     United States Navy SEALs\n",
       "4   5219                           United States Navy\n",
       "5   5020                      United States Air Force\n",
       "6   4622                                 Donald Trump\n",
       "7   4363  United States Marine Corps Recruit Training\n",
       "8   4291                             Drill instructor\n",
       "9   4105                     Stolen Valor Act of 2013"
      ]
     },
     "execution_count": 12,
     "metadata": {},
     "output_type": "execute_result"
    }
   ],
   "source": [
    "tc = tc.sort_values('count', ascending=False).reset_index().iloc[:,1:]\n",
    "tc.head(10)"
   ]
  },
  {
   "cell_type": "code",
   "execution_count": 13,
   "metadata": {
    "collapsed": false
   },
   "outputs": [],
   "source": [
    "tc.to_csv(cwd + '/data/topic_connections_3.csv')"
   ]
  },
  {
   "cell_type": "code",
   "execution_count": 14,
   "metadata": {
    "collapsed": false
   },
   "outputs": [],
   "source": [
    "topic_weights = topic_weights.sort_values(by='author_id',ascending=False)\n",
    "topic_weights.to_csv(cwd + '/data/node_weights_3.csv')"
   ]
  },
  {
   "cell_type": "code",
   "execution_count": null,
   "metadata": {
    "collapsed": true
   },
   "outputs": [],
   "source": []
  }
 ],
 "metadata": {
  "kernelspec": {
   "display_name": "Python 3",
   "language": "python",
   "name": "python3"
  },
  "language_info": {
   "codemirror_mode": {
    "name": "ipython",
    "version": 3
   },
   "file_extension": ".py",
   "mimetype": "text/x-python",
   "name": "python",
   "nbconvert_exporter": "python",
   "pygments_lexer": "ipython3",
   "version": "3.5.2"
  }
 },
 "nbformat": 4,
 "nbformat_minor": 1
}
